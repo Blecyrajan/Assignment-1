{
  "nbformat": 4,
  "nbformat_minor": 0,
  "metadata": {
    "colab": {
      "name": "Day 1.ipynb",
      "provenance": [],
      "authorship_tag": "ABX9TyMjCZBCw5W1MuI7rVgX71gk",
      "include_colab_link": true
    },
    "kernelspec": {
      "name": "python3",
      "display_name": "Python 3"
    },
    "language_info": {
      "name": "python"
    }
  },
  "cells": [
    {
      "cell_type": "markdown",
      "metadata": {
        "id": "view-in-github",
        "colab_type": "text"
      },
      "source": [
        "<a href=\"https://colab.research.google.com/github/Blecyrajan/Assignment-1/blob/main/Day_1.ipynb\" target=\"_parent\"><img src=\"https://colab.research.google.com/assets/colab-badge.svg\" alt=\"Open In Colab\"/></a>"
      ]
    },
    {
      "cell_type": "code",
      "execution_count": 4,
      "metadata": {
        "colab": {
          "base_uri": "https://localhost:8080/"
        },
        "id": "Jdu1xAZ3uLJf",
        "outputId": "72687049-42d6-4da2-9f08-ffa6ce472f35"
      },
      "outputs": [
        {
          "output_type": "stream",
          "name": "stdout",
          "text": [
            "Enter numbers:10 20 30 40 50\n",
            "Sum: 150\n"
          ]
        }
      ],
      "source": [
        "x = [int(i) for i in input('Enter numbers:').split()]\n",
        "s = 0\n",
        "for i in x:\n",
        "  s += i\n",
        "print('Sum:',s)"
      ]
    }
  ]
}